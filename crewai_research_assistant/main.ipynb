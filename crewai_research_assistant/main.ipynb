{
 "cells": [
  {
   "cell_type": "code",
   "execution_count": null,
   "metadata": {},
   "outputs": [],
   "source": [
    "# !pip install crewai"
   ]
  },
  {
   "cell_type": "code",
   "execution_count": null,
   "metadata": {},
   "outputs": [],
   "source": [
    "import os\n",
    "os.environ[\"SERPER_API_KEY\"] = \"\"  # serper.dev API key\n",
    "os.environ[\"OPENAI_API_KEY\"] = \"\"\n",
    "os.environ[\"OPENAI_MODEL_NAME\"] = \"gpt-3.5-turbo\"  # Example model\n"
   ]
  },
  {
   "cell_type": "code",
   "execution_count": null,
   "metadata": {},
   "outputs": [],
   "source": [
    "from crewai import Agent\n",
    "from crewai_tools import SerperDevTool\n",
    "\n",
    "search_tool = SerperDevTool()\n",
    "\n",
    "llm_model = 'gpt-3.5-turbo'\n",
    "\n",
    "researcher = Agent(\n",
    "    role='Senior Researcher',\n",
    "    goal='Uncover groundbreaking technologies in {topic}',\n",
    "    verbose=True,\n",
    "    memory=True,\n",
    "    backstory=(\n",
    "        \"Driven by curiosity, you're at the forefront of \"\n",
    "        \"innovation, eager to explore and share knowledge that could change \"\n",
    "        \"the world.\"\n",
    "    ),\n",
    "    tools=[search_tool],\n",
    "    allow_delegation=True\n",
    ")\n",
    "\n",
    "writer = Agent(\n",
    "    role='Writer',\n",
    "    goal='Narrate compelling tech stories about {topic}',\n",
    "    verbose=True,\n",
    "    memory=True,\n",
    "    backstory=(\n",
    "        \"With a flair for simplifying complex topics, you craft \"\n",
    "        \"engaging narratives that captivate and educate, bringing new \"\n",
    "        \"discoveries to light in an accessible manner.\"\n",
    "    ),\n",
    "    tools=[search_tool],\n",
    "    allow_delegation=False\n",
    ")\n"
   ]
  },
  {
   "cell_type": "code",
   "execution_count": null,
   "metadata": {},
   "outputs": [],
   "source": [
    "from crewai import Task\n",
    "\n",
    "research_task = Task(\n",
    "    description=(\n",
    "        \"Identify the current state in {topic}. \"\n",
    "        \"Focus on identifying pros and cons and the overall narrative. \"\n",
    "        \"Your final report should clearly articulate the key points, \"\n",
    "        \"its market opportunities, and potential risks. Do not focus on future predictions. Instead, focus on the impact that's visible today.\"\n",
    "    ),\n",
    "    expected_output='A comprehensive 3-paragraph report on the latest AI trends.',\n",
    "    tools=[search_tool],\n",
    "    agent=researcher\n",
    ")\n",
    "\n",
    "write_task = Task(\n",
    "    description=(\n",
    "        \"Compose an insightful article on {topic}. \"\n",
    "        \"Focus on the latest trends and how it's impacting the industry. Do not focus on future predictions. Instead, focus on the impact that's visible today.\"\n",
    "        \"This article should be easy to understand, engaging, and positive.\"\n",
    "    ),\n",
    "    expected_output='A 4-paragraph article on {topic} advancements formatted as markdown.',\n",
    "    tools=[search_tool],\n",
    "    agent=writer,\n",
    "    async_execution=False,\n",
    "    output_file='new-blog-post.md'  # Example of output customization\n",
    ")\n"
   ]
  },
  {
   "cell_type": "code",
   "execution_count": null,
   "metadata": {},
   "outputs": [],
   "source": [
    "from crewai import Crew, Process\n",
    "\n",
    "crew = Crew(\n",
    "    agents=[researcher, writer],\n",
    "    tasks=[research_task, write_task],\n",
    "    process=Process.sequential  # Optional: Sequential task execution is default\n",
    ")"
   ]
  },
  {
   "cell_type": "code",
   "execution_count": null,
   "metadata": {},
   "outputs": [],
   "source": [
    "result = crew.kickoff(inputs={'topic': 'AI agents in production environments'})\n",
    "print(result)"
   ]
  }
 ],
 "metadata": {
  "kernelspec": {
   "display_name": "crewai_experiments",
   "language": "python",
   "name": "python3"
  },
  "language_info": {
   "codemirror_mode": {
    "name": "ipython",
    "version": 3
   },
   "file_extension": ".py",
   "mimetype": "text/x-python",
   "name": "python",
   "nbconvert_exporter": "python",
   "pygments_lexer": "ipython3",
   "version": "3.11.9"
  }
 },
 "nbformat": 4,
 "nbformat_minor": 2
}
